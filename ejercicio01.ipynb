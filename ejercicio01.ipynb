{
 "cells": [
  {
   "cell_type": "markdown",
   "id": "d207f649",
   "metadata": {},
   "source": [
    "# Ejercicio 1"
   ]
  },
  {
   "cell_type": "code",
   "execution_count": null,
   "id": "18b0d835",
   "metadata": {},
   "outputs": [],
   "source": [
    "def suma_elementos(lista):\n",
    "    \"\"\"\n",
    "    Esta función recibe una lista de números y devuelve la suma de sus elementos.\n",
    "    \"\"\"\n",
    "    suma = 0\n",
    "    for numero in lista:\n",
    "        suma += numero\n",
    "    return suma\n",
    "if __name__ == \"__main__\":\n",
    "    N = int(input(\"Ingrese la cantidad de elementos (N): \"))\n",
    "    lista = []\n",
    "    for i in range(1, N + 1):\n",
    "        valor = float(input(f\"Ingrese elemento {i}: \"))\n",
    "        lista.append(valor)\n",
    "\n",
    "    resultado = suma_elementos(lista)\n",
    "    print(\"La suma de los elementos es:\", resultado)\n"
   ]
  }
 ],
 "metadata": {
  "kernelspec": {
   "display_name": "Python 3",
   "language": "python",
   "name": "python3"
  },
  "language_info": {
   "codemirror_mode": {
    "name": "ipython",
    "version": 3
   },
   "file_extension": ".py",
   "mimetype": "text/x-python",
   "name": "python",
   "nbconvert_exporter": "python",
   "pygments_lexer": "ipython3",
   "version": "3.11.9"
  }
 },
 "nbformat": 4,
 "nbformat_minor": 5
}
