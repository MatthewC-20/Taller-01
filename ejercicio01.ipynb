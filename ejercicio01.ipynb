{
 "cells": [
  {
   "cell_type": "markdown",
   "id": "d207f649",
   "metadata": {},
   "source": [
    "# 📚 Ejercicio 01 - Algoritmos y Programación\n",
    "\n",
    "**Estudiante:** Matthew Cedeño  \n",
    "**Materia:** Métodos numéricos \n",
    "**Fecha:** 28 de abril de 2025  \n",
    "**Profesor:** Jonathan Zea  \n",
    "**Tema:**  Algoritmos en Python"
   ]
  },
  {
   "cell_type": "code",
   "execution_count": 6,
   "id": "18b0d835",
   "metadata": {},
   "outputs": [
    {
     "name": "stdout",
     "output_type": "stream",
     "text": [
      "La suma de los elementos es: 3.0\n"
     ]
    }
   ],
   "source": [
    "def suma_elementos(lista):\n",
    "    \"\"\"\n",
    "    Esta función recibe una lista de números y devuelve la suma de sus elementos.\n",
    "    \"\"\"\n",
    "    suma = 0\n",
    "    for numero in lista:\n",
    "        suma += numero\n",
    "    return suma\n",
    "if __name__ == \"__main__\":\n",
    "    N = int(input(\"Ingrese la cantidad de elementos (N): \"))\n",
    "    lista = []\n",
    "    for i in range(1, N + 1):\n",
    "        valor = float(input(f\"Ingrese elemento {i}: \"))\n",
    "        lista.append(valor)\n",
    "\n",
    "    resultado = suma_elementos(lista)\n",
    "    print(\"La suma de los elementos es:\", resultado)"
   ]
  },
  {
   "cell_type": "markdown",
   "id": "94756340",
   "metadata": {},
   "source": [
    "# Comprobación de algoritmo  "
   ]
  },
  {
   "cell_type": "code",
   "execution_count": 7,
   "id": "03836371",
   "metadata": {},
   "outputs": [
    {
     "name": "stdout",
     "output_type": "stream",
     "text": [
      "La suma de X = range(100) es: 4950\n",
      "La suma de X = [1, 1/2, 1/4] es: 1.75\n"
     ]
    }
   ],
   "source": [
    "def alg_01(N, lista):\n",
    "    \"\"\"\n",
    "   Cambia la forma de ingresar los elementos y ahora están directamente en el codigo \n",
    "    \"\"\"\n",
    "    suma = 0\n",
    "    for numero in lista:\n",
    "        suma += numero\n",
    "    return suma\n",
    "\n",
    "# Casos de prueba con rango y con tres numeros quemados en el codigo, solicitado en la presentación \n",
    "if __name__ == \"__main__\":\n",
    "    X = range(100)  # Primer caso de prueba\n",
    "    print(\"La suma de X = range(100) es:\", alg_01(len(X), X))\n",
    "\n",
    "    X = [1, 1/2, 1/4]  # Segundo caso de prueba\n",
    "    print(\"La suma de X = [1, 1/2, 1/4] es:\", alg_01(len(X), X))\n"
   ]
  }
 ],
 "metadata": {
  "kernelspec": {
   "display_name": "Python 3",
   "language": "python",
   "name": "python3"
  },
  "language_info": {
   "codemirror_mode": {
    "name": "ipython",
    "version": 3
   },
   "file_extension": ".py",
   "mimetype": "text/x-python",
   "name": "python",
   "nbconvert_exporter": "python",
   "pygments_lexer": "ipython3",
   "version": "3.11.9"
  }
 },
 "nbformat": 4,
 "nbformat_minor": 5
}
