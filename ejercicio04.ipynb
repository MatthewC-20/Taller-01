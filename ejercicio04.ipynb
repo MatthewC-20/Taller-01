{
 "cells": [
  {
   "cell_type": "markdown",
   "id": "26a5c4a5",
   "metadata": {},
   "source": [
    "# 📚 Ejercicio 04 - Algoritmos y Programación\n",
    "\n",
    "**Estudiante:** Matthew Cedeño  \n",
    "**Materia:** Métodos numéricos \n",
    "**Fecha:** 28 de abril de 2025  \n",
    "**Profesor:** Jonathan Zea  \n",
    "**Tema:**  Algoritmos en Python"
   ]
  },
  {
   "cell_type": "code",
   "execution_count": 3,
   "id": "9416a946",
   "metadata": {},
   "outputs": [
    {
     "name": "stdout",
     "output_type": "stream",
     "text": [
      "Suma aproximada de la serie armónica hasta 10000 términos: 9.094508852984404\n"
     ]
    }
   ],
   "source": [
    "def serie_armonica(n_max):\n",
    "    suma = 0\n",
    "    for n in range(1, n_max + 1):\n",
    "        suma += 1 / n\n",
    "    return suma\n",
    "\n",
    "# Ejemplo: calcular hasta n = 5000\n",
    "resultado = serie_armonica(5000)\n",
    "print(\"Suma aproximada de la serie armónica hasta 10000 términos:\", resultado)\n"
   ]
  },
  {
   "cell_type": "markdown",
   "id": "d4968314",
   "metadata": {},
   "source": [
    "![Imagen5](imagen5.jpeg)\n",
    "- La repsuesta es ∞ debido a que aunque crece lentamente, su suma tiende a infinito conforme \n",
    "𝑛→∞\n",
    "\n"
   ]
  }
 ],
 "metadata": {
  "kernelspec": {
   "display_name": "Python 3",
   "language": "python",
   "name": "python3"
  },
  "language_info": {
   "codemirror_mode": {
    "name": "ipython",
    "version": 3
   },
   "file_extension": ".py",
   "mimetype": "text/x-python",
   "name": "python",
   "nbconvert_exporter": "python",
   "pygments_lexer": "ipython3",
   "version": "3.11.9"
  }
 },
 "nbformat": 4,
 "nbformat_minor": 5
}
