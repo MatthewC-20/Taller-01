{
 "cells": [
  {
   "cell_type": "markdown",
   "id": "a41db8df",
   "metadata": {},
   "source": [
    "# 📚 Ejercicio 03 - Algoritmos y Programación\n",
    "\n",
    "**Estudiante:** Matthew Cedeño  \n",
    "**Materia:** Métodos numéricos \n",
    "**Fecha:** 28 de abril de 2025  \n",
    "**Profesor:** Jonathan Zea  \n",
    "**Tema:**  Algoritmos en Python"
   ]
  },
  {
   "cell_type": "code",
   "execution_count": null,
   "id": "c206f1e9",
   "metadata": {},
   "outputs": [],
   "source": [
    "def iterative(n):\n",
    "    if n == 0:\n",
    "        return 0\n",
    "    else:\n",
    "        x = 0\n",
    "        y = 1\n",
    "        for i in range(1, n):\n",
    "            z = x + y\n",
    "            x = y\n",
    "            y = z\n",
    "    return y\n",
    "\n",
    "# Llamada para n = 11\n",
    "resultado = iterative(11)\n",
    "print(\"El valor de y cuando n = 11 es:\", resultado)\n"
   ]
  }
 ],
 "metadata": {
  "language_info": {
   "name": "python"
  }
 },
 "nbformat": 4,
 "nbformat_minor": 5
}
