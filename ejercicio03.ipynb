{
 "cells": [
  {
   "cell_type": "markdown",
   "id": "a41db8df",
   "metadata": {},
   "source": [
    "# 📚 Ejercicio 03 - Algoritmos y Programación\n",
    "\n",
    "**Estudiante:** Matthew Cedeño  \n",
    "**Materia:** Métodos numéricos \n",
    "**Fecha:** 28 de abril de 2025  \n",
    "**Profesor:** Jonathan Zea  \n",
    "**Tema:**  Algoritmos en Python"
   ]
  },
  {
   "cell_type": "code",
   "execution_count": 6,
   "id": "c206f1e9",
   "metadata": {},
   "outputs": [
    {
     "name": "stdout",
     "output_type": "stream",
     "text": [
      "El valor de y cuando m = 11 es: 89\n"
     ]
    }
   ],
   "source": [
    "def iterative(m):\n",
    "    if m == 0:\n",
    "        return 0\n",
    "    else:\n",
    "        x = 0\n",
    "        y = 1\n",
    "        for i in range(1, m):\n",
    "            z = x + y\n",
    "            x = y\n",
    "            y = z\n",
    "    return y\n",
    "\n",
    "# Llamada para n = 11\n",
    "resultado = iterative(11)\n",
    "print(\"El valor de y cuando m = 11 es:\", resultado)\n"
   ]
  },
  {
   "cell_type": "markdown",
   "id": "8ba4fd04",
   "metadata": {},
   "source": [
    "## Respuesta quizz\n",
    "![Imagen3](imagen3.jpeg)\n",
    "- La respuesta para cuando n = 11 es 89"
   ]
  },
  {
   "cell_type": "markdown",
   "id": "ef852598",
   "metadata": {},
   "source": [
    "## Modificacion de codigo para saber el tiempo de ejecución"
   ]
  },
  {
   "cell_type": "code",
   "execution_count": 7,
   "id": "ad13316f",
   "metadata": {},
   "outputs": [
    {
     "name": "stdout",
     "output_type": "stream",
     "text": [
      "El valor de y cuando m = 11 es: 89\n",
      "Tiempo de ejecución: 0.0000000000 segundos\n"
     ]
    }
   ],
   "source": [
    "import time \n",
    "\n",
    "def iterative(m):\n",
    "    if m == 0:\n",
    "        return 0\n",
    "    else:\n",
    "        x = 0\n",
    "        y = 1\n",
    "        for i in range(1, m):\n",
    "            z = x + y\n",
    "            x = y\n",
    "            y = z\n",
    "    return y\n",
    "\n",
    "start_t = time.time()  \n",
    "\n",
    "resultado = iterative(11)\n",
    "\n",
    "end_t = time.time()  \n",
    "tiempo_total = end_t - start_t  \n",
    "\n",
    "print(\"El valor de y cuando m = 11 es:\", resultado)\n",
    "print(f\"Tiempo de ejecución: {tiempo_total:.10f} segundos\")\n"
   ]
  },
  {
   "cell_type": "markdown",
   "id": "f0d3d638",
   "metadata": {},
   "source": [
    "# Participacion \n",
    "![Imagen3](imagen4.jpeg)"
   ]
  },
  {
   "cell_type": "markdown",
   "id": "c4fa1c2d",
   "metadata": {},
   "source": [
    "- La respuesta es ninguna de las anteriores segun la repsuesta del quizz aunque en mi codigo da 6 que seria menor que 10"
   ]
  },
  {
   "cell_type": "code",
   "execution_count": 8,
   "id": "6f4cab93",
   "metadata": {},
   "outputs": [
    {
     "name": "stdout",
     "output_type": "stream",
     "text": [
      "Iteración 1: y_i=1, y_(i+1)=1, ratio=1.0, error=0.383\n",
      "Iteración 2: y_i=1, y_(i+1)=2, ratio=2.0, error=0.235\n",
      "Iteración 3: y_i=2, y_(i+1)=3, ratio=1.5, error=0.0741\n",
      "Iteración 4: y_i=3, y_(i+1)=5, ratio=1.67, error=0.0309\n",
      "Iteración 5: y_i=5, y_(i+1)=8, ratio=1.6, error=0.0123\n",
      "Iteración 6: y_i=8, y_(i+1)=13, ratio=1.62, error=0.0\n",
      "\n",
      "✅ El error es menor que 10^-5 en la iteración i = 6\n"
     ]
    }
   ],
   "source": [
    "import math\n",
    "\n",
    "# Función de redondeo a cifras significativas\n",
    "def FL_rounding(num: float, digits: int) -> float:\n",
    "    ''' Rounds the given ``num`` with the given significant ``digits``. '''\n",
    "    num = float(f\"{num:.{digits - 1}e}\")\n",
    "    return num\n",
    "\n",
    "def iterative_with_error(m):\n",
    "    gr = (1 + math.sqrt(5)) / 2\n",
    "    gr = FL_rounding(gr, 3)  \n",
    "    \n",
    "    x = 0\n",
    "    y = 1\n",
    "    \n",
    "    for i in range(1, m):\n",
    "        z = x + y\n",
    "        x = y\n",
    "        y = z\n",
    "        \n",
    "        if i >= 1:  \n",
    "            ratio = FL_rounding(y / x, 3) \n",
    "            error = abs((gr - ratio) / gr)\n",
    "            error = FL_rounding(error, 3)  \n",
    "            \n",
    "            print(f\"Iteración {i}: y_i={x}, y_(i+1)={y}, ratio={ratio}, error={error}\")\n",
    "            \n",
    "            if error < 1e-5:\n",
    "                print(f\"\\n✅ El error es menor que 10^-5 en la iteración i = {i}\")\n",
    "                break\n",
    "\n",
    "\n",
    "iterative_with_error(50) \n"
   ]
  }
 ],
 "metadata": {
  "kernelspec": {
   "display_name": "Python 3",
   "language": "python",
   "name": "python3"
  },
  "language_info": {
   "codemirror_mode": {
    "name": "ipython",
    "version": 3
   },
   "file_extension": ".py",
   "mimetype": "text/x-python",
   "name": "python",
   "nbconvert_exporter": "python",
   "pygments_lexer": "ipython3",
   "version": "3.11.9"
  }
 },
 "nbformat": 4,
 "nbformat_minor": 5
}
