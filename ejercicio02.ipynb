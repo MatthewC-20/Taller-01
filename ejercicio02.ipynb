{
 "cells": [
  {
   "cell_type": "markdown",
   "id": "4c77e439",
   "metadata": {},
   "source": [
    "# Ejercicio 2\n",
    "- Matthew Cedeño"
   ]
  },
  {
   "cell_type": "code",
   "execution_count": null,
   "id": "0cb1e83d",
   "metadata": {},
   "outputs": [],
   "source": [
    "def bubble_sort(a):\n",
    "    n = len(a)\n",
    "    for i in range(n):\n",
    "        swapped = False\n",
    "        for j in range(1, n - i):\n",
    "            if a[j] < a[j - 1]:\n",
    "                a[j], a[j - 1] = a[j - 1], a[j]\n",
    "                swapped = True"
   ]
  }
 ],
 "metadata": {
  "kernelspec": {
   "display_name": "Python 3",
   "language": "python",
   "name": "python3"
  },
  "language_info": {
   "codemirror_mode": {
    "name": "ipython",
    "version": 3
   },
   "file_extension": ".py",
   "mimetype": "text/x-python",
   "name": "python",
   "nbconvert_exporter": "python",
   "pygments_lexer": "ipython3",
   "version": "3.11.9"
  }
 },
 "nbformat": 4,
 "nbformat_minor": 5
}
