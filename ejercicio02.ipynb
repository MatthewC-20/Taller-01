{
 "cells": [
  {
   "cell_type": "markdown",
   "id": "353a42e8",
   "metadata": {},
   "source": [
    "# 📚 Ejercicio 02 - Algoritmos y Programación\n",
    "\n",
    "**Estudiante:** Matthew Cedeño  \n",
    "**Materia:** Métodos numéricos \n",
    "**Fecha:** 28 de abril de 2025  \n",
    "**Profesor:** Jonathan Zea  \n",
    "**Tema:**  Algoritmos en Python"
   ]
  },
  {
   "cell_type": "markdown",
   "id": "4c77e439",
   "metadata": {},
   "source": [
    "## 🚀 Solución en Python"
   ]
  },
  {
   "cell_type": "code",
   "execution_count": 3,
   "id": "0cb1e83d",
   "metadata": {},
   "outputs": [],
   "source": [
    "def bubble_sort(x):\n",
    "    n = len(x)\n",
    "    for i in range(n):\n",
    "        swapped = False\n",
    "        for j in range(1, n - i):\n",
    "            if x[j] < x[j - 1]:\n",
    "                x[j], x[j - 1] = x[j - 1], x[j]\n",
    "                swapped = True\n",
    "                 # Cambio de posición entre elementos\n",
    "                x[j], x[j - 1] = x[j - 1], x[j]\n",
    "                swapped = True\n",
    "        if not swapped:\n",
    "            break\n",
    "    return x"
   ]
  }
 ],
 "metadata": {
  "kernelspec": {
   "display_name": "Python 3",
   "language": "python",
   "name": "python3"
  },
  "language_info": {
   "codemirror_mode": {
    "name": "ipython",
    "version": 3
   },
   "file_extension": ".py",
   "mimetype": "text/x-python",
   "name": "python",
   "nbconvert_exporter": "python",
   "pygments_lexer": "ipython3",
   "version": "3.11.9"
  }
 },
 "nbformat": 4,
 "nbformat_minor": 5
}
