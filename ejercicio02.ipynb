{
 "cells": [
  {
   "cell_type": "markdown",
   "id": "4c77e439",
   "metadata": {},
   "source": [
    "# 📚 Ejercicio 02 - Algoritmos y Programación\n",
    "\n",
    "**Estudiante:** Matthew Cedeño  \n",
    "**Materia:** Métodos numéricos \n",
    "**Fecha:** 28 de abril de 2025  \n",
    "**Profesor:** Jonathan Zea  \n",
    "**Tema:**  Algoritmos en Python"
   ]
  },
  {
   "cell_type": "markdown",
   "id": "a633daf5",
   "metadata": {},
   "source": [
    "## 🚀 Solución en Python"
   ]
  },
  {
   "cell_type": "code",
   "execution_count": 8,
   "id": "0cb1e83d",
   "metadata": {},
   "outputs": [],
   "source": [
    "def bubble_sort(x):\n",
    "    n = len(x)\n",
    "    for i in range(n):\n",
    "        swapped = False\n",
    "        for j in range(1, n - i):\n",
    "            if x[j] < x[j - 1]:\n",
    "                x[j], x[j - 1] = x[j - 1], x[j]\n",
    "                swapped = True\n",
    "                 # Cambio de posición entre elementos.\n",
    "                x[j], x[j - 1] = x[j - 1], x[j]\n",
    "                swapped = True\n",
    "        if not swapped:\n",
    "            break\n",
    "    return x "
   ]
  },
  {
   "cell_type": "markdown",
   "id": "f50a5f14",
   "metadata": {},
   "source": [
    "## Respuesta Quizz\n",
    "![Imagen 2](imagen2.jpeg)\n",
    "- La tarea que realiza es ordenar el vector de manera ascendente."
   ]
  },
  {
   "cell_type": "markdown",
   "id": "61f7b244",
   "metadata": {},
   "source": [
    "## Respuesta quizz 2\n",
    "![Imagen 1](imagen1.png)\n",
    "\n",
    "\n",
    "- El número de comparaciones es 10\n",
    "\n",
    "# Codigo modificado \n",
    "\n"
   ]
  },
  {
   "cell_type": "code",
   "execution_count": 9,
   "id": "6864f330",
   "metadata": {},
   "outputs": [
    {
     "name": "stdout",
     "output_type": "stream",
     "text": [
      "Lista ordenada: [1, 2, 3, 4, 5]\n",
      "Número de comparaciones: 10\n"
     ]
    }
   ],
   "source": [
    "def bubble_sort_count(x):\n",
    "    n = len(x)\n",
    "    comparisons = 0  # Contador de comparaciones\n",
    "    for i in range(n):\n",
    "        swapped = False\n",
    "        for j in range(1, n - i):\n",
    "            comparisons += 1  # Cada vez que compara dos elementos\n",
    "            if x[j] < x[j - 1]:\n",
    "                x[j], x[j - 1] = x[j - 1], x[j]\n",
    "                swapped = True\n",
    "        if not swapped:\n",
    "            break\n",
    "    return x, comparisons\n",
    "\n",
    "# [5, 4, 3, 2, 1]\n",
    "lista = [5, 4, 3, 2, 1]\n",
    "resultado, num_comparaciones = bubble_sort_count(lista)\n",
    "print(\"Lista ordenada:\", resultado)\n",
    "print(\"Número de comparaciones:\", num_comparaciones)\n"
   ]
  }
 ],
 "metadata": {
  "kernelspec": {
   "display_name": "Python 3",
   "language": "python",
   "name": "python3"
  },
  "language_info": {
   "codemirror_mode": {
    "name": "ipython",
    "version": 3
   },
   "file_extension": ".py",
   "mimetype": "text/x-python",
   "name": "python",
   "nbconvert_exporter": "python",
   "pygments_lexer": "ipython3",
   "version": "3.11.9"
  }
 },
 "nbformat": 4,
 "nbformat_minor": 5
}
